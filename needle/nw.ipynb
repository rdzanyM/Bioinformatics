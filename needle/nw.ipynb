{
 "cells": [
  {
   "cell_type": "code",
   "execution_count": 6,
   "metadata": {},
   "outputs": [
    {
     "name": "stdout",
     "output_type": "stream",
     "text": [
      "seq1: GGATCGAAGCI-BBBWYSIOASUHDJSGCGT\n",
      "seq2: -G---GAAGCIBBBBWYSIOAS---FS--HI\n",
      "\n",
      "Alignment score: 2.0\n",
      "\n",
      "Looks fine :)\n"
     ]
    }
   ],
   "source": [
    "from needleman_wunsh import make_alignment\n",
    "\n",
    "\n",
    "def calculate_score(seq1: str, seq2: str, match: int, mismatch: int, gap: int) -> int:\n",
    "    \"\"\"Calculates score of alignment. Helper function used for results validation. \"\"\"\n",
    "\n",
    "    def s(a, b):\n",
    "        \"\"\"Score of pair\"\"\"\n",
    "        if a == '-' or b == '-':\n",
    "            return gap\n",
    "        elif a == b:\n",
    "            return match\n",
    "        else:\n",
    "            return mismatch\n",
    "\n",
    "    score = 0\n",
    "    for i in range(len(seq1)):\n",
    "        score += s(seq1[i], seq2[i])\n",
    "    return score\n",
    "\n",
    "\n",
    "# Sequences to be aligned\n",
    "seq1 = 'GGATCGAAGCIBBBWYSIOASUHDJSGCGT'\n",
    "seq2 = 'GGAAGCIBBBBWYSIOASFSHI'\n",
    "# Alignment parameters\n",
    "match = 1\n",
    "mismatch = -2\n",
    "gap = -1\n",
    "\n",
    "# Make an alignment\n",
    "aligned_seq1, aligned_seq2, score = make_alignment(seq1, seq2, match=match, mismatch=mismatch, gap=gap)\n",
    "\n",
    "print(f'seq1: {aligned_seq1}')\n",
    "print(f'seq2: {aligned_seq2}')\n",
    "print()\n",
    "print(f'Alignment score: {score}')\n",
    "\n",
    "# Test correctness\n",
    "dealigned_seq1 = aligned_seq1.replace('-', '')\n",
    "dealigned_seq2 = aligned_seq2.replace('-', '')\n",
    "\n",
    "assert len(aligned_seq1) == len(aligned_seq2), f'aligned sequences must have the same lenghts'\n",
    "assert len(seq1) == len(dealigned_seq1), f'Length of seq1 does not match length of aligned_seq1: {len(seq1)} !=  {len(dealigned_seq1)}'\n",
    "assert len(seq2) == len(dealigned_seq2), f'Length of seq1 does not match length of aligned_seq1: {len(seq2)} !=  {len(dealigned_seq2)}'\n",
    "assert dealigned_seq1 == seq1, f'Output seq1 is different than input seq1'\n",
    "assert dealigned_seq2 == seq2, f'Output seq2 is different than input seq2'\n",
    "for i in range(len(aligned_seq1)):\n",
    "    assert not (aligned_seq1[i] == '-' and aligned_seq2[i] == '-'), f'alignment can not have dash in both sequences at the same position: {i}'\n",
    "actual_score = calculate_score(aligned_seq1, aligned_seq2, match, mismatch, gap)\n",
    "assert actual_score == score, f'Reported score does not match actual score: {score} != {actual_score}'\n",
    "\n",
    "print()\n",
    "print('Looks fine :)')"
   ]
  },
  {
   "cell_type": "code",
   "execution_count": 11,
   "metadata": {},
   "outputs": [],
   "source": [
    "import numpy as np\n",
    "def make_alignment(s1, s2, match, mismatch, gap):\n",
    "    s = np.zeros((len(s1)+1,len(s2)+1)) # score\n",
    "    d = np.zeros((len(s1)+1,len(s2)+1), dtype=int) # direction 1=left 2=diag 3=up\n",
    "    s[0,:] = [i*gap for i in range(0,len(s2)+1)] \n",
    "    s[:,0] = [i*gap for i in range(0,len(s1)+1)] \n",
    "    d[0,1:],d[1:,0] = 1,3\n",
    "    for i in range(1,len(s1)+1):\n",
    "        for j in range(1,len(s2)+1):\n",
    "            b = s[i-1,j-1] + (match if s1[i-1] == s2[j-1] else mismatch)\n",
    "            if s[i-1,j] > s[i,j-1]:\n",
    "                a = s[i-1,j] + gap\n",
    "                if a > b:\n",
    "                    s[i,j],d[i,j] = a,3\n",
    "                    continue\n",
    "            else:\n",
    "                a = s[i,j-1] + gap\n",
    "                if a > b:\n",
    "                    s[i,j],d[i,j] = a,1\n",
    "                    continue\n",
    "            s[i,j],d[i,j] = b,2\n",
    "    i,j = len(s1),len(s2)\n",
    "    a1,a2 = [],[]\n",
    "    while i+j > 0:\n",
    "        a = d[i,j]\n",
    "        if a > 1: i-=1; a1.append(s1[i])\n",
    "        else: a1.append('-')\n",
    "        if a < 3: j-=1; a2.append(s2[j])\n",
    "        else: a2.append('-')\n",
    "    return ''.join(a1[::-1]), ''.join(a2[::-1]), s[-1,-1]"
   ]
  }
 ],
 "metadata": {
  "kernelspec": {
   "display_name": "Python 3",
   "language": "python",
   "name": "python3"
  },
  "language_info": {
   "codemirror_mode": {
    "name": "ipython",
    "version": 3
   },
   "file_extension": ".py",
   "mimetype": "text/x-python",
   "name": "python",
   "nbconvert_exporter": "python",
   "pygments_lexer": "ipython3",
   "version": "3.7.7"
  }
 },
 "nbformat": 4,
 "nbformat_minor": 4
}
